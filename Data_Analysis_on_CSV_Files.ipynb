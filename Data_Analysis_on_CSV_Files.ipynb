{
  "nbformat": 4,
  "nbformat_minor": 0,
  "metadata": {
    "colab": {
      "provenance": []
    },
    "kernelspec": {
      "name": "python3",
      "display_name": "Python 3"
    },
    "language_info": {
      "name": "python"
    }
  },
  "cells": [
    {
      "cell_type": "code",
      "execution_count": 19,
      "metadata": {
        "id": "_pXWoY_3tluN"
      },
      "outputs": [],
      "source": [
        "import pandas as pd\n",
        "import matplotlib.pyplot as plt\n",
        "import seaborn as sns"
      ]
    },
    {
      "cell_type": "code",
      "source": [
        "df = pd.read_csv('pizza_sales.csv')"
      ],
      "metadata": {
        "id": "OhbfJMr5uPy-"
      },
      "execution_count": 2,
      "outputs": []
    },
    {
      "cell_type": "code",
      "source": [
        "df.head()"
      ],
      "metadata": {
        "colab": {
          "base_uri": "https://localhost:8080/",
          "height": 206
        },
        "id": "3goVdoZIuTsi",
        "outputId": "a6444737-7895-4a4d-ce2f-d48b0a60ab15"
      },
      "execution_count": 3,
      "outputs": [
        {
          "output_type": "execute_result",
          "data": {
            "text/plain": [
              "   pizza_id  order_id  pizza_name_id  quantity order_date order_time  \\\n",
              "0       1.0       1.0     hawaiian_m       1.0   1/1/2015   11:38:36   \n",
              "1       2.0       2.0  classic_dlx_m       1.0   1/1/2015   11:57:40   \n",
              "2       3.0       2.0  five_cheese_l       1.0   1/1/2015   11:57:40   \n",
              "3       4.0       2.0    ital_supr_l       1.0   1/1/2015   11:57:40   \n",
              "4       5.0       2.0     mexicana_m       1.0   1/1/2015   11:57:40   \n",
              "\n",
              "   unit_price  total_price pizza_size pizza_category  \\\n",
              "0       13.25        13.25          M        Classic   \n",
              "1       16.00        16.00          M        Classic   \n",
              "2       18.50        18.50          L         Veggie   \n",
              "3       20.75        20.75          L        Supreme   \n",
              "4       16.00        16.00          M         Veggie   \n",
              "\n",
              "                                   pizza_ingredients  \\\n",
              "0           Sliced Ham, Pineapple, Mozzarella Cheese   \n",
              "1  Pepperoni, Mushrooms, Red Onions, Red Peppers,...   \n",
              "2  Mozzarella Cheese, Provolone Cheese, Smoked Go...   \n",
              "3  Calabrese Salami, Capocollo, Tomatoes, Red Oni...   \n",
              "4  Tomatoes, Red Peppers, Jalapeno Peppers, Red O...   \n",
              "\n",
              "                  pizza_name  \n",
              "0         The Hawaiian Pizza  \n",
              "1   The Classic Deluxe Pizza  \n",
              "2      The Five Cheese Pizza  \n",
              "3  The Italian Supreme Pizza  \n",
              "4         The Mexicana Pizza  "
            ],
            "text/html": [
              "\n",
              "  <div id=\"df-fd8a0a8b-1ae9-4689-8c3b-8b231bc6713b\" class=\"colab-df-container\">\n",
              "    <div>\n",
              "<style scoped>\n",
              "    .dataframe tbody tr th:only-of-type {\n",
              "        vertical-align: middle;\n",
              "    }\n",
              "\n",
              "    .dataframe tbody tr th {\n",
              "        vertical-align: top;\n",
              "    }\n",
              "\n",
              "    .dataframe thead th {\n",
              "        text-align: right;\n",
              "    }\n",
              "</style>\n",
              "<table border=\"1\" class=\"dataframe\">\n",
              "  <thead>\n",
              "    <tr style=\"text-align: right;\">\n",
              "      <th></th>\n",
              "      <th>pizza_id</th>\n",
              "      <th>order_id</th>\n",
              "      <th>pizza_name_id</th>\n",
              "      <th>quantity</th>\n",
              "      <th>order_date</th>\n",
              "      <th>order_time</th>\n",
              "      <th>unit_price</th>\n",
              "      <th>total_price</th>\n",
              "      <th>pizza_size</th>\n",
              "      <th>pizza_category</th>\n",
              "      <th>pizza_ingredients</th>\n",
              "      <th>pizza_name</th>\n",
              "    </tr>\n",
              "  </thead>\n",
              "  <tbody>\n",
              "    <tr>\n",
              "      <th>0</th>\n",
              "      <td>1.0</td>\n",
              "      <td>1.0</td>\n",
              "      <td>hawaiian_m</td>\n",
              "      <td>1.0</td>\n",
              "      <td>1/1/2015</td>\n",
              "      <td>11:38:36</td>\n",
              "      <td>13.25</td>\n",
              "      <td>13.25</td>\n",
              "      <td>M</td>\n",
              "      <td>Classic</td>\n",
              "      <td>Sliced Ham, Pineapple, Mozzarella Cheese</td>\n",
              "      <td>The Hawaiian Pizza</td>\n",
              "    </tr>\n",
              "    <tr>\n",
              "      <th>1</th>\n",
              "      <td>2.0</td>\n",
              "      <td>2.0</td>\n",
              "      <td>classic_dlx_m</td>\n",
              "      <td>1.0</td>\n",
              "      <td>1/1/2015</td>\n",
              "      <td>11:57:40</td>\n",
              "      <td>16.00</td>\n",
              "      <td>16.00</td>\n",
              "      <td>M</td>\n",
              "      <td>Classic</td>\n",
              "      <td>Pepperoni, Mushrooms, Red Onions, Red Peppers,...</td>\n",
              "      <td>The Classic Deluxe Pizza</td>\n",
              "    </tr>\n",
              "    <tr>\n",
              "      <th>2</th>\n",
              "      <td>3.0</td>\n",
              "      <td>2.0</td>\n",
              "      <td>five_cheese_l</td>\n",
              "      <td>1.0</td>\n",
              "      <td>1/1/2015</td>\n",
              "      <td>11:57:40</td>\n",
              "      <td>18.50</td>\n",
              "      <td>18.50</td>\n",
              "      <td>L</td>\n",
              "      <td>Veggie</td>\n",
              "      <td>Mozzarella Cheese, Provolone Cheese, Smoked Go...</td>\n",
              "      <td>The Five Cheese Pizza</td>\n",
              "    </tr>\n",
              "    <tr>\n",
              "      <th>3</th>\n",
              "      <td>4.0</td>\n",
              "      <td>2.0</td>\n",
              "      <td>ital_supr_l</td>\n",
              "      <td>1.0</td>\n",
              "      <td>1/1/2015</td>\n",
              "      <td>11:57:40</td>\n",
              "      <td>20.75</td>\n",
              "      <td>20.75</td>\n",
              "      <td>L</td>\n",
              "      <td>Supreme</td>\n",
              "      <td>Calabrese Salami, Capocollo, Tomatoes, Red Oni...</td>\n",
              "      <td>The Italian Supreme Pizza</td>\n",
              "    </tr>\n",
              "    <tr>\n",
              "      <th>4</th>\n",
              "      <td>5.0</td>\n",
              "      <td>2.0</td>\n",
              "      <td>mexicana_m</td>\n",
              "      <td>1.0</td>\n",
              "      <td>1/1/2015</td>\n",
              "      <td>11:57:40</td>\n",
              "      <td>16.00</td>\n",
              "      <td>16.00</td>\n",
              "      <td>M</td>\n",
              "      <td>Veggie</td>\n",
              "      <td>Tomatoes, Red Peppers, Jalapeno Peppers, Red O...</td>\n",
              "      <td>The Mexicana Pizza</td>\n",
              "    </tr>\n",
              "  </tbody>\n",
              "</table>\n",
              "</div>\n",
              "    <div class=\"colab-df-buttons\">\n",
              "\n",
              "  <div class=\"colab-df-container\">\n",
              "    <button class=\"colab-df-convert\" onclick=\"convertToInteractive('df-fd8a0a8b-1ae9-4689-8c3b-8b231bc6713b')\"\n",
              "            title=\"Convert this dataframe to an interactive table.\"\n",
              "            style=\"display:none;\">\n",
              "\n",
              "  <svg xmlns=\"http://www.w3.org/2000/svg\" height=\"24px\" viewBox=\"0 -960 960 960\">\n",
              "    <path d=\"M120-120v-720h720v720H120Zm60-500h600v-160H180v160Zm220 220h160v-160H400v160Zm0 220h160v-160H400v160ZM180-400h160v-160H180v160Zm440 0h160v-160H620v160ZM180-180h160v-160H180v160Zm440 0h160v-160H620v160Z\"/>\n",
              "  </svg>\n",
              "    </button>\n",
              "\n",
              "  <style>\n",
              "    .colab-df-container {\n",
              "      display:flex;\n",
              "      gap: 12px;\n",
              "    }\n",
              "\n",
              "    .colab-df-convert {\n",
              "      background-color: #E8F0FE;\n",
              "      border: none;\n",
              "      border-radius: 50%;\n",
              "      cursor: pointer;\n",
              "      display: none;\n",
              "      fill: #1967D2;\n",
              "      height: 32px;\n",
              "      padding: 0 0 0 0;\n",
              "      width: 32px;\n",
              "    }\n",
              "\n",
              "    .colab-df-convert:hover {\n",
              "      background-color: #E2EBFA;\n",
              "      box-shadow: 0px 1px 2px rgba(60, 64, 67, 0.3), 0px 1px 3px 1px rgba(60, 64, 67, 0.15);\n",
              "      fill: #174EA6;\n",
              "    }\n",
              "\n",
              "    .colab-df-buttons div {\n",
              "      margin-bottom: 4px;\n",
              "    }\n",
              "\n",
              "    [theme=dark] .colab-df-convert {\n",
              "      background-color: #3B4455;\n",
              "      fill: #D2E3FC;\n",
              "    }\n",
              "\n",
              "    [theme=dark] .colab-df-convert:hover {\n",
              "      background-color: #434B5C;\n",
              "      box-shadow: 0px 1px 3px 1px rgba(0, 0, 0, 0.15);\n",
              "      filter: drop-shadow(0px 1px 2px rgba(0, 0, 0, 0.3));\n",
              "      fill: #FFFFFF;\n",
              "    }\n",
              "  </style>\n",
              "\n",
              "    <script>\n",
              "      const buttonEl =\n",
              "        document.querySelector('#df-fd8a0a8b-1ae9-4689-8c3b-8b231bc6713b button.colab-df-convert');\n",
              "      buttonEl.style.display =\n",
              "        google.colab.kernel.accessAllowed ? 'block' : 'none';\n",
              "\n",
              "      async function convertToInteractive(key) {\n",
              "        const element = document.querySelector('#df-fd8a0a8b-1ae9-4689-8c3b-8b231bc6713b');\n",
              "        const dataTable =\n",
              "          await google.colab.kernel.invokeFunction('convertToInteractive',\n",
              "                                                    [key], {});\n",
              "        if (!dataTable) return;\n",
              "\n",
              "        const docLinkHtml = 'Like what you see? Visit the ' +\n",
              "          '<a target=\"_blank\" href=https://colab.research.google.com/notebooks/data_table.ipynb>data table notebook</a>'\n",
              "          + ' to learn more about interactive tables.';\n",
              "        element.innerHTML = '';\n",
              "        dataTable['output_type'] = 'display_data';\n",
              "        await google.colab.output.renderOutput(dataTable, element);\n",
              "        const docLink = document.createElement('div');\n",
              "        docLink.innerHTML = docLinkHtml;\n",
              "        element.appendChild(docLink);\n",
              "      }\n",
              "    </script>\n",
              "  </div>\n",
              "\n",
              "\n",
              "    <div id=\"df-9b1b9d84-74ed-4330-b53d-93d53e6f3e34\">\n",
              "      <button class=\"colab-df-quickchart\" onclick=\"quickchart('df-9b1b9d84-74ed-4330-b53d-93d53e6f3e34')\"\n",
              "                title=\"Suggest charts\"\n",
              "                style=\"display:none;\">\n",
              "\n",
              "<svg xmlns=\"http://www.w3.org/2000/svg\" height=\"24px\"viewBox=\"0 0 24 24\"\n",
              "     width=\"24px\">\n",
              "    <g>\n",
              "        <path d=\"M19 3H5c-1.1 0-2 .9-2 2v14c0 1.1.9 2 2 2h14c1.1 0 2-.9 2-2V5c0-1.1-.9-2-2-2zM9 17H7v-7h2v7zm4 0h-2V7h2v10zm4 0h-2v-4h2v4z\"/>\n",
              "    </g>\n",
              "</svg>\n",
              "      </button>\n",
              "\n",
              "<style>\n",
              "  .colab-df-quickchart {\n",
              "      --bg-color: #E8F0FE;\n",
              "      --fill-color: #1967D2;\n",
              "      --hover-bg-color: #E2EBFA;\n",
              "      --hover-fill-color: #174EA6;\n",
              "      --disabled-fill-color: #AAA;\n",
              "      --disabled-bg-color: #DDD;\n",
              "  }\n",
              "\n",
              "  [theme=dark] .colab-df-quickchart {\n",
              "      --bg-color: #3B4455;\n",
              "      --fill-color: #D2E3FC;\n",
              "      --hover-bg-color: #434B5C;\n",
              "      --hover-fill-color: #FFFFFF;\n",
              "      --disabled-bg-color: #3B4455;\n",
              "      --disabled-fill-color: #666;\n",
              "  }\n",
              "\n",
              "  .colab-df-quickchart {\n",
              "    background-color: var(--bg-color);\n",
              "    border: none;\n",
              "    border-radius: 50%;\n",
              "    cursor: pointer;\n",
              "    display: none;\n",
              "    fill: var(--fill-color);\n",
              "    height: 32px;\n",
              "    padding: 0;\n",
              "    width: 32px;\n",
              "  }\n",
              "\n",
              "  .colab-df-quickchart:hover {\n",
              "    background-color: var(--hover-bg-color);\n",
              "    box-shadow: 0 1px 2px rgba(60, 64, 67, 0.3), 0 1px 3px 1px rgba(60, 64, 67, 0.15);\n",
              "    fill: var(--button-hover-fill-color);\n",
              "  }\n",
              "\n",
              "  .colab-df-quickchart-complete:disabled,\n",
              "  .colab-df-quickchart-complete:disabled:hover {\n",
              "    background-color: var(--disabled-bg-color);\n",
              "    fill: var(--disabled-fill-color);\n",
              "    box-shadow: none;\n",
              "  }\n",
              "\n",
              "  .colab-df-spinner {\n",
              "    border: 2px solid var(--fill-color);\n",
              "    border-color: transparent;\n",
              "    border-bottom-color: var(--fill-color);\n",
              "    animation:\n",
              "      spin 1s steps(1) infinite;\n",
              "  }\n",
              "\n",
              "  @keyframes spin {\n",
              "    0% {\n",
              "      border-color: transparent;\n",
              "      border-bottom-color: var(--fill-color);\n",
              "      border-left-color: var(--fill-color);\n",
              "    }\n",
              "    20% {\n",
              "      border-color: transparent;\n",
              "      border-left-color: var(--fill-color);\n",
              "      border-top-color: var(--fill-color);\n",
              "    }\n",
              "    30% {\n",
              "      border-color: transparent;\n",
              "      border-left-color: var(--fill-color);\n",
              "      border-top-color: var(--fill-color);\n",
              "      border-right-color: var(--fill-color);\n",
              "    }\n",
              "    40% {\n",
              "      border-color: transparent;\n",
              "      border-right-color: var(--fill-color);\n",
              "      border-top-color: var(--fill-color);\n",
              "    }\n",
              "    60% {\n",
              "      border-color: transparent;\n",
              "      border-right-color: var(--fill-color);\n",
              "    }\n",
              "    80% {\n",
              "      border-color: transparent;\n",
              "      border-right-color: var(--fill-color);\n",
              "      border-bottom-color: var(--fill-color);\n",
              "    }\n",
              "    90% {\n",
              "      border-color: transparent;\n",
              "      border-bottom-color: var(--fill-color);\n",
              "    }\n",
              "  }\n",
              "</style>\n",
              "\n",
              "      <script>\n",
              "        async function quickchart(key) {\n",
              "          const quickchartButtonEl =\n",
              "            document.querySelector('#' + key + ' button');\n",
              "          quickchartButtonEl.disabled = true;  // To prevent multiple clicks.\n",
              "          quickchartButtonEl.classList.add('colab-df-spinner');\n",
              "          try {\n",
              "            const charts = await google.colab.kernel.invokeFunction(\n",
              "                'suggestCharts', [key], {});\n",
              "          } catch (error) {\n",
              "            console.error('Error during call to suggestCharts:', error);\n",
              "          }\n",
              "          quickchartButtonEl.classList.remove('colab-df-spinner');\n",
              "          quickchartButtonEl.classList.add('colab-df-quickchart-complete');\n",
              "        }\n",
              "        (() => {\n",
              "          let quickchartButtonEl =\n",
              "            document.querySelector('#df-9b1b9d84-74ed-4330-b53d-93d53e6f3e34 button');\n",
              "          quickchartButtonEl.style.display =\n",
              "            google.colab.kernel.accessAllowed ? 'block' : 'none';\n",
              "        })();\n",
              "      </script>\n",
              "    </div>\n",
              "\n",
              "    </div>\n",
              "  </div>\n"
            ],
            "application/vnd.google.colaboratory.intrinsic+json": {
              "type": "dataframe",
              "variable_name": "df",
              "summary": "{\n  \"name\": \"df\",\n  \"rows\": 48620,\n  \"fields\": [\n    {\n      \"column\": \"pizza_id\",\n      \"properties\": {\n        \"dtype\": \"number\",\n        \"std\": 14035.529380824935,\n        \"min\": 1.0,\n        \"max\": 48620.0,\n        \"num_unique_values\": 48620,\n        \"samples\": [\n          42519.0,\n          39006.0,\n          12784.0\n        ],\n        \"semantic_type\": \"\",\n        \"description\": \"\"\n      }\n    },\n    {\n      \"column\": \"order_id\",\n      \"properties\": {\n        \"dtype\": \"number\",\n        \"std\": 6180.119770377635,\n        \"min\": 1.0,\n        \"max\": 21350.0,\n        \"num_unique_values\": 21350,\n        \"samples\": [\n          19270.0,\n          4635.0,\n          5413.0\n        ],\n        \"semantic_type\": \"\",\n        \"description\": \"\"\n      }\n    },\n    {\n      \"column\": \"pizza_name_id\",\n      \"properties\": {\n        \"dtype\": \"category\",\n        \"num_unique_values\": 91,\n        \"samples\": [\n          \"southw_ckn_s\",\n          \"cali_ckn_l\",\n          \"spin_pesto_s\"\n        ],\n        \"semantic_type\": \"\",\n        \"description\": \"\"\n      }\n    },\n    {\n      \"column\": \"quantity\",\n      \"properties\": {\n        \"dtype\": \"number\",\n        \"std\": 0.14307700932475953,\n        \"min\": 1.0,\n        \"max\": 4.0,\n        \"num_unique_values\": 4,\n        \"samples\": [\n          2.0,\n          4.0,\n          1.0\n        ],\n        \"semantic_type\": \"\",\n        \"description\": \"\"\n      }\n    },\n    {\n      \"column\": \"order_date\",\n      \"properties\": {\n        \"dtype\": \"category\",\n        \"num_unique_values\": 358,\n        \"samples\": [\n          \"12/8/2015\",\n          \"12/2/2015\",\n          \"19-09-2015\"\n        ],\n        \"semantic_type\": \"\",\n        \"description\": \"\"\n      }\n    },\n    {\n      \"column\": \"order_time\",\n      \"properties\": {\n        \"dtype\": \"object\",\n        \"num_unique_values\": 16382,\n        \"samples\": [\n          \"13:48:54\",\n          \"17:35:34\",\n          \"20:21:52\"\n        ],\n        \"semantic_type\": \"\",\n        \"description\": \"\"\n      }\n    },\n    {\n      \"column\": \"unit_price\",\n      \"properties\": {\n        \"dtype\": \"number\",\n        \"std\": 3.6217891586575077,\n        \"min\": 9.75,\n        \"max\": 35.95,\n        \"num_unique_values\": 25,\n        \"samples\": [\n          20.5,\n          17.5,\n          13.25\n        ],\n        \"semantic_type\": \"\",\n        \"description\": \"\"\n      }\n    },\n    {\n      \"column\": \"total_price\",\n      \"properties\": {\n        \"dtype\": \"number\",\n        \"std\": 4.4373975811805755,\n        \"min\": 9.75,\n        \"max\": 83.0,\n        \"num_unique_values\": 56,\n        \"samples\": [\n          13.25,\n          12.75,\n          37.5\n        ],\n        \"semantic_type\": \"\",\n        \"description\": \"\"\n      }\n    },\n    {\n      \"column\": \"pizza_size\",\n      \"properties\": {\n        \"dtype\": \"category\",\n        \"num_unique_values\": 5,\n        \"samples\": [\n          \"L\",\n          \"XXL\",\n          \"S\"\n        ],\n        \"semantic_type\": \"\",\n        \"description\": \"\"\n      }\n    },\n    {\n      \"column\": \"pizza_category\",\n      \"properties\": {\n        \"dtype\": \"category\",\n        \"num_unique_values\": 4,\n        \"samples\": [\n          \"Veggie\",\n          \"Chicken\",\n          \"Classic\"\n        ],\n        \"semantic_type\": \"\",\n        \"description\": \"\"\n      }\n    },\n    {\n      \"column\": \"pizza_ingredients\",\n      \"properties\": {\n        \"dtype\": \"category\",\n        \"num_unique_values\": 32,\n        \"samples\": [\n          \"Chicken, Red Onions, Red Peppers, Mushrooms, Asiago Cheese, Alfredo Sauce\",\n          \"Chicken, Tomatoes, Red Peppers, Red Onions, Jalapeno Peppers, Corn, Cilantro, Chipotle Sauce\",\n          \"Eggplant, Artichokes, Tomatoes, Zucchini, Red Peppers, Garlic, Pesto Sauce\"\n        ],\n        \"semantic_type\": \"\",\n        \"description\": \"\"\n      }\n    },\n    {\n      \"column\": \"pizza_name\",\n      \"properties\": {\n        \"dtype\": \"category\",\n        \"num_unique_values\": 32,\n        \"samples\": [\n          \"The Chicken Alfredo Pizza\",\n          \"The Southwest Chicken Pizza\",\n          \"The Italian Vegetables Pizza\"\n        ],\n        \"semantic_type\": \"\",\n        \"description\": \"\"\n      }\n    }\n  ]\n}"
            }
          },
          "metadata": {},
          "execution_count": 3
        }
      ]
    },
    {
      "cell_type": "code",
      "source": [
        "df['order_date'] = pd.to_datetime(df['order_date'], dayfirst=True, errors='coerce')"
      ],
      "metadata": {
        "id": "UCFVw7B9uW0C"
      },
      "execution_count": 12,
      "outputs": []
    },
    {
      "cell_type": "code",
      "source": [
        "df['month'] = df['order_date'].dt.to_period('M')"
      ],
      "metadata": {
        "id": "AXXPoMROwAbB"
      },
      "execution_count": 34,
      "outputs": []
    },
    {
      "cell_type": "code",
      "source": [
        "sales_by_category = df.groupby('pizza_category')['total_price'].sum().reset_index()\n",
        "\n",
        "print(sales_by_category)"
      ],
      "metadata": {
        "colab": {
          "base_uri": "https://localhost:8080/"
        },
        "id": "GDE4jVNqwZX4",
        "outputId": "16d7b280-f4a8-46be-988d-000db2ba0fc8"
      },
      "execution_count": 35,
      "outputs": [
        {
          "output_type": "stream",
          "name": "stdout",
          "text": [
            "  pizza_category  total_price\n",
            "0        Chicken    195919.50\n",
            "1        Classic    220053.10\n",
            "2        Supreme    208197.00\n",
            "3         Veggie    193690.45\n"
          ]
        }
      ]
    },
    {
      "cell_type": "code",
      "source": [
        "monthly_sales = df.groupby('month')['total_price'].sum().reset_index()\n",
        "print(monthly_sales)"
      ],
      "metadata": {
        "colab": {
          "base_uri": "https://localhost:8080/"
        },
        "id": "mbif9-xi0tvV",
        "outputId": "2acd088e-3b81-47cd-d93c-07515e20f535"
      },
      "execution_count": 36,
      "outputs": [
        {
          "output_type": "stream",
          "name": "stdout",
          "text": [
            "      month  total_price\n",
            "0   2015-01     27781.70\n",
            "1   2015-02     28235.55\n",
            "2   2015-03     27088.85\n",
            "3   2015-04     28100.45\n",
            "4   2015-05     27742.35\n",
            "5   2015-06     28166.20\n",
            "6   2015-07     29313.65\n",
            "7   2015-08     26757.85\n",
            "8   2015-09     28340.25\n",
            "9   2015-10     22843.35\n",
            "10  2015-11     27146.70\n",
            "11  2015-12     27812.90\n"
          ]
        }
      ]
    },
    {
      "cell_type": "code",
      "source": [
        "most_sold_pizzas = df.groupby('pizza_name')['quantity'].sum().reset_index().sort_values(by='quantity',ascending=False)\n",
        "print(most_sold_pizzas.head(10))"
      ],
      "metadata": {
        "colab": {
          "base_uri": "https://localhost:8080/"
        },
        "id": "cZjoMUHCxGFu",
        "outputId": "ed1e2951-9d39-4e17-b4d9-29616633171d"
      },
      "execution_count": 37,
      "outputs": [
        {
          "output_type": "stream",
          "name": "stdout",
          "text": [
            "                      pizza_name  quantity\n",
            "7       The Classic Deluxe Pizza    2453.0\n",
            "0     The Barbecue Chicken Pizza    2432.0\n",
            "12            The Hawaiian Pizza    2422.0\n",
            "20           The Pepperoni Pizza    2418.0\n",
            "30        The Thai Chicken Pizza    2371.0\n",
            "4   The California Chicken Pizza    2370.0\n",
            "23            The Sicilian Pizza    1938.0\n",
            "26       The Spicy Italian Pizza    1924.0\n",
            "25   The Southwest Chicken Pizza    1917.0\n",
            "1             The Big Meat Pizza    1914.0\n"
          ]
        }
      ]
    },
    {
      "cell_type": "code",
      "source": [
        "sns.set(style=\"whitegrid\")"
      ],
      "metadata": {
        "id": "YnKVl8KyxseX"
      },
      "execution_count": 38,
      "outputs": []
    },
    {
      "cell_type": "code",
      "source": [
        "plt.figure(figsize=(8,5))\n",
        "sns.barplot(data=sales_by_category, x='pizza_category', y='total_price', palette='viridis')\n",
        "plt.title('Total Sales by Pizza Category')\n",
        "plt.xlabel('Category')\n",
        "plt.ylabel('Sales')\n",
        "plt.tight_layout()\n",
        "plt.show()"
      ],
      "metadata": {
        "colab": {
          "base_uri": "https://localhost:8080/",
          "height": 592
        },
        "id": "gZ96T_IxyHqY",
        "outputId": "806c0d01-c58e-42d2-c8e7-a95b4a0de0ab"
      },
      "execution_count": 39,
      "outputs": [
        {
          "output_type": "stream",
          "name": "stderr",
          "text": [
            "/tmp/ipython-input-39-3423417873.py:2: FutureWarning: \n",
            "\n",
            "Passing `palette` without assigning `hue` is deprecated and will be removed in v0.14.0. Assign the `x` variable to `hue` and set `legend=False` for the same effect.\n",
            "\n",
            "  sns.barplot(data=sales_by_category, x='pizza_category', y='total_price', palette='viridis')\n"
          ]
        },
        {
          "output_type": "display_data",
          "data": {
            "text/plain": [
              "<Figure size 800x500 with 1 Axes>"
            ],
            "image/png": "[encoded data removed]"
          },
          "metadata": {}
        }
      ]
    },
    {
      "cell_type": "code",
      "source": [
        "top10 = most_sold_pizzas.head(10)\n",
        "\n",
        "plt.figure(figsize=(12,6))\n",
        "sns.barplot(data=top10, x='quantity', y='pizza_name', palette='magma')\n",
        "plt.title('Top 10 Most Sold Pizzas')\n",
        "plt.xlabel('Quantity Sold')\n",
        "plt.ylabel('Pizza')\n",
        "plt.tight_layout()\n",
        "plt.show()"
      ],
      "metadata": {
        "colab": {
          "base_uri": "https://localhost:8080/",
          "height": 692
        },
        "id": "MFbV-1Qz1rxr",
        "outputId": "515c57ab-5dec-45f1-98ed-058b340d7630"
      },
      "execution_count": 43,
      "outputs": [
        {
          "output_type": "stream",
          "name": "stderr",
          "text": [
            "/tmp/ipython-input-43-3997873643.py:4: FutureWarning: \n",
            "\n",
            "Passing `palette` without assigning `hue` is deprecated and will be removed in v0.14.0. Assign the `y` variable to `hue` and set `legend=False` for the same effect.\n",
            "\n",
            "  sns.barplot(data=top10, x='quantity', y='pizza_name', palette='magma')\n"
          ]
        },
        {
          "output_type": "display_data",
          "data": {
            "text/plain": [
              "<Figure size 1200x600 with 1 Axes>"
            ],
            "image/png": "[encoded data removed]"
          },
          "metadata": {}
        }
      ]
    }
  ]
}